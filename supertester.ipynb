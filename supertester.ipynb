{
 "cells": [
  {
   "cell_type": "code",
   "execution_count": 1,
   "metadata": {},
   "outputs": [],
   "source": [
    "import numpy as np\n",
    "from osgeo import gdal\n",
    "import torch\n",
    "from tqdm import tqdm\n",
    "import matplotlib.pyplot as plt\n",
    "from matplotlib import patches\n",
    "from osgeo import gdal, osr"
   ]
  },
  {
   "cell_type": "code",
   "execution_count": 2,
   "metadata": {},
   "outputs": [],
   "source": [
    "SLICE_SIZE = 512\n",
    "MM_TO_PIXEL = 4.11  # Check from report needs to be set everytime\n",
    "PATH_TO_MODEL = '../weights/best.pt'\n",
    "PATH_TO_ORTHOPHOTO = '../scripts/B2K_5_ortho.tiff'\n",
    "PATH_TO_DEM = '../scripts/Bhagina to Kajra 5 DEM.tif'\n"
   ]
  },
  {
   "cell_type": "code",
   "execution_count": 3,
   "metadata": {},
   "outputs": [],
   "source": [
    "# convert the final bbox coords wrt to the ones on the DEM\n",
    "def coord_converter(xmin_photo, ymin_photo, xmax_photo, ymax_photo, dataset_photo, dataset_dem):\n",
    "\n",
    "    # Get geotransform of the orthophoto\n",
    "    geotransform_photo = dataset_photo.GetGeoTransform()\n",
    "\n",
    "    # Get the real world coordinates\n",
    "    x_min_real = geotransform_photo[0] + xmin_photo * \\\n",
    "        geotransform_photo[1] + ymin_photo * geotransform_photo[2]\n",
    "    y_min_real = geotransform_photo[3] + xmin_photo * \\\n",
    "        geotransform_photo[4] + ymin_photo * geotransform_photo[5]\n",
    "\n",
    "    x_max_real = geotransform_photo[0] + xmax_photo * \\\n",
    "        geotransform_photo[1] + ymax_photo * geotransform_photo[2]\n",
    "    y_max_real = geotransform_photo[3] + xmax_photo * \\\n",
    "        geotransform_photo[4] + ymax_photo * geotransform_photo[5]\n",
    "\n",
    "    # use real word coords on the geotagged orthophoto\n",
    "    geotransform_photo_dem = dataset_dem.GetGeoTransform()\n",
    "\n",
    "    srs = osr.SpatialReference()\n",
    "    srs.ImportFromWkt(dataset_dem.GetProjection())\n",
    "\n",
    "    coord_transform = osr.CoordinateTransformation(srs, srs.CloneGeogCS())\n",
    "\n",
    "    # Convert the real-world coordinates to projected coordinates\n",
    "    x_proj_min, y_proj_min, _ = coord_transform.TransformPoint(\n",
    "        x_min_real, y_min_real)\n",
    "    x_proj_max, y_proj_max, _ = coord_transform.TransformPoint(\n",
    "        x_max_real, y_max_real)\n",
    "\n",
    "    td0 = geotransform_photo_dem[0]\n",
    "    td1 = geotransform_photo_dem[1]\n",
    "    td2 = geotransform_photo_dem[2]\n",
    "    td3 = geotransform_photo_dem[3]\n",
    "    td4 = geotransform_photo_dem[4]\n",
    "    td5 = geotransform_photo_dem[5]\n",
    "\n",
    "    x_min_dem = int(\n",
    "        ((x_proj_min - td0)*td5 - (y_proj_min - td3)*td2)/(td1*td5 - td2*td4)\n",
    "    )\n",
    "\n",
    "    y_min_dem = int(\n",
    "        ((x_proj_min - td0)*td4 - (y_proj_min - td3)*td1)/(td2*td4 - td1*td5)\n",
    "    )\n",
    "\n",
    "    x_max_dem = int(\n",
    "        ((x_proj_max - td0)*td5 - (y_proj_max - td3)*td2)/(td1*td5 - td2*td4)\n",
    "    )\n",
    "\n",
    "    y_max_dem = int(\n",
    "        ((x_proj_max - td0)*td4 - (y_proj_max - td3)*td1)/(td2*td4 - td1*td5)\n",
    "    )\n",
    "\n",
    "    # Note the last two items are the real world coordinates of the centroid of the bbox to identify and locate each pothole\n",
    "    return x_min_dem, y_min_dem, x_max_dem, y_max_dem, (x_min_real + x_max_real)/2, (y_min_real + y_max_real)/2\n"
   ]
  },
  {
   "cell_type": "code",
   "execution_count": 4,
   "metadata": {},
   "outputs": [],
   "source": [
    "dataset_ortho = gdal.Open(PATH_TO_ORTHOPHOTO)\n",
    "dataset_dem = gdal.Open(PATH_TO_DEM)"
   ]
  },
  {
   "cell_type": "code",
   "execution_count": 5,
   "metadata": {},
   "outputs": [],
   "source": [
    "dem_array = np.array(dataset_dem.ReadAsArray())"
   ]
  },
  {
   "cell_type": "code",
   "execution_count": 6,
   "metadata": {},
   "outputs": [],
   "source": [
    "def calculate_slice_bboxes(\n",
    "    orthophoto_dataset,\n",
    "    image_height: int,\n",
    "    image_width: int,\n",
    "    slice_height: int = SLICE_SIZE,\n",
    "    slice_width: int = SLICE_SIZE,\n",
    "    overlap_height_ratio: float = 0.2,\n",
    "    overlap_width_ratio: float = 0.2):\n",
    "\n",
    "    def check_garbage_slice(dataset, xmin, ymin, xmax, ymax):\n",
    "\n",
    "        image = np.array(dataset.ReadAsArray(xmin, ymin, xmax - xmin, ymax - ymin))\n",
    "        image = image[0:3, :, :]\n",
    "        corner1 = image[:, 0, 0]\n",
    "        corner2 = image[:, ymax - ymin - 1, xmax - xmin - 1]\n",
    "        corner3 = image[:, 0, xmax - xmin - 1]\n",
    "        corner4 = image[:, ymax - ymin - 1, 0]\n",
    "        reject = np.array([255, 255, 255])\n",
    "        corners = [corner1, corner2, corner3, corner4]\n",
    "        for corner in corners:\n",
    "            if (corner == reject).all():\n",
    "                return True\n",
    "        return False\n",
    "    \n",
    "    slice_bboxes = []\n",
    "    y_max = y_min = 0\n",
    "    y_overlap = int(overlap_height_ratio * slice_height)\n",
    "    x_overlap = int(overlap_width_ratio * slice_width)\n",
    "    while y_max < image_height:\n",
    "        x_min = x_max = 0\n",
    "        y_max = y_min + slice_height\n",
    "        while x_max < image_width:\n",
    "            x_max = x_min + slice_width\n",
    "            if y_max > image_height or x_max > image_width:\n",
    "                xmax = min(image_width, x_max)\n",
    "                ymax = min(image_height, y_max)\n",
    "                xmin = max(0, xmax - slice_width)\n",
    "                ymin = max(0, ymax - slice_height)\n",
    "                if not check_garbage_slice(orthophoto_dataset, xmin, ymin, xmax, ymax):\n",
    "                    slice_bboxes.append([xmin, ymin, xmax, ymax])\n",
    "\n",
    "            else:\n",
    "                if not check_garbage_slice(orthophoto_dataset, x_min, y_min, x_max, y_max):\n",
    "                    slice_bboxes.append([x_min, y_min, x_max, y_max])\n",
    "\n",
    "            x_min = x_max - x_overlap\n",
    "        y_min = y_max - y_overlap\n",
    "\n",
    "    return slice_bboxes\n"
   ]
  },
  {
   "cell_type": "code",
   "execution_count": 7,
   "metadata": {},
   "outputs": [],
   "source": [
    "slices = calculate_slice_bboxes(\n",
    "    orthophoto_dataset=dataset_ortho,\n",
    "    image_height=dataset_ortho.RasterYSize,\n",
    "    image_width=dataset_ortho.RasterXSize\n",
    "    )"
   ]
  },
  {
   "cell_type": "code",
   "execution_count": 8,
   "metadata": {},
   "outputs": [
    {
     "data": {
      "text/plain": [
       "300"
      ]
     },
     "execution_count": 8,
     "metadata": {},
     "output_type": "execute_result"
    }
   ],
   "source": [
    "len(slices)"
   ]
  },
  {
   "cell_type": "code",
   "execution_count": 12,
   "metadata": {},
   "outputs": [],
   "source": [
    "def get_check_bbox_coords(bboxes, result, image_dim, slice):\n",
    "\n",
    "    xmin_slice, ymin_slice, xmax_slice, ymax_slice = slice\n",
    "    # print(image_dim)\n",
    "\n",
    "    boxes = result.xyxyn[0]\n",
    "    for box in boxes:\n",
    "        box = np.array(box)\n",
    "        xmin, ymin, xmax, ymax, confidence, label = box\n",
    "\n",
    "        if label == 4 and confidence > 0.5:          # index label of the pothole in the in the model\n",
    "            # result.show()\n",
    "            # print('before ', xmin, ymin, xmax, ymax)\n",
    "            xmin *= image_dim\n",
    "            xmax *= image_dim\n",
    "            ymin *= image_dim\n",
    "            ymax *= image_dim\n",
    "\n",
    "            # print('after ', xmin, ymin, xmax, ymax)\n",
    "\n",
    "            xmin, ymin, xmax, ymax = int(xmin), int(ymin), int(xmax), int(ymax)\n",
    "            # print('after after ', xmin, ymin, xmax, ymax)\n",
    "            # Get coordinates wrt original orthophoto\n",
    "            xmin += xmin_slice\n",
    "            ymin += ymin_slice\n",
    "            xmax += xmin_slice\n",
    "            ymax += ymin_slice\n",
    "\n",
    "            bbox = (xmin, ymin, xmax, ymax)\n",
    "            bboxes.append(bbox)\n",
    "\n",
    "        else:\n",
    "            continue"
   ]
  },
  {
   "cell_type": "code",
   "execution_count": 13,
   "metadata": {},
   "outputs": [],
   "source": [
    "def detector(slices):\n",
    "\n",
    "    bboxes = []\n",
    "    print(\"Running the detector model...\")\n",
    "    model = torch.hub.load('ultralytics/yolov5', 'custom', path=PATH_TO_MODEL, source='github')\n",
    "    for slice in tqdm(slices):\n",
    "        # print('slice ', slice)\n",
    "        xmin, ymin, xmax, ymax = slice\n",
    "        sliced_image = np.array(dataset_ortho.ReadAsArray(xmin, ymin, xmax - xmin, ymax - ymin))\n",
    "        sliced_image = sliced_image[0:3, :, :]\n",
    "        # print(sliced_image.shape)\n",
    "        result = model(sliced_image)\n",
    "        get_check_bbox_coords(bboxes, result, sliced_image.shape[1], slice)   # adds the bbox coordinates to the list wrt orthophoto\n",
    "    return  bboxes"
   ]
  },
  {
   "cell_type": "code",
   "execution_count": 14,
   "metadata": {},
   "outputs": [
    {
     "name": "stdout",
     "output_type": "stream",
     "text": [
      "Running the detector model...\n"
     ]
    },
    {
     "name": "stderr",
     "output_type": "stream",
     "text": [
      "Using cache found in /Users/adityadandwate/.cache/torch/hub/ultralytics_yolov5_master\n",
      "YOLOv5 🚀 2022-8-25 Python-3.11.0 torch-2.0.0 CPU\n",
      "\n",
      "Fusing layers... \n",
      "Model summary: 157 layers, 7029004 parameters, 0 gradients, 15.8 GFLOPs\n",
      "Adding AutoShape... \n",
      "100%|██████████| 300/300 [16:19<00:00,  3.27s/it] \n"
     ]
    }
   ],
   "source": [
    "bbox_vals = detector(slices=slices)"
   ]
  },
  {
   "cell_type": "code",
   "execution_count": 78,
   "metadata": {},
   "outputs": [
    {
     "data": {
      "text/plain": [
       "41"
      ]
     },
     "execution_count": 78,
     "metadata": {},
     "output_type": "execute_result"
    }
   ],
   "source": [
    "len(bbox_vals)"
   ]
  },
  {
   "cell_type": "code",
   "execution_count": 81,
   "metadata": {},
   "outputs": [],
   "source": [
    "def convert_to_dem_coords(bboxes):\n",
    "    \n",
    "    final_bboxes_dem = []\n",
    "    for box in bboxes:\n",
    "        # print(box)\n",
    "        final_box_dem = coord_converter(box[0], box[1], box[2], box[3], dataset_ortho, dataset_dem)\n",
    "        final_bboxes_dem.append(final_box_dem)\n",
    "\n",
    "    return final_bboxes_dem"
   ]
  },
  {
   "cell_type": "code",
   "execution_count": 82,
   "metadata": {},
   "outputs": [],
   "source": [
    "final_bboxes_dem = convert_to_dem_coords(bbox_vals)"
   ]
  },
  {
   "cell_type": "code",
   "execution_count": 45,
   "metadata": {},
   "outputs": [
    {
     "data": {
      "text/plain": [
       "41"
      ]
     },
     "execution_count": 45,
     "metadata": {},
     "output_type": "execute_result"
    }
   ],
   "source": [
    "len(final_bboxes_dem)"
   ]
  },
  {
   "cell_type": "code",
   "execution_count": 46,
   "metadata": {},
   "outputs": [],
   "source": [
    "def show_image_3(image):\n",
    "\n",
    "    plt.imshow(image)\n",
    "    plt.savefig(\"test2.png\")\n"
   ]
  },
  {
   "cell_type": "code",
   "execution_count": 83,
   "metadata": {},
   "outputs": [],
   "source": [
    "def calculate_volume_and_maxdepth(final_bboxes_dem):\n",
    "    \"\"\"\n",
    "    Append the volume and maximum depth of the pothole to the list\n",
    "    \"\"\"\n",
    "    volume_max_depth = []\n",
    "    area = MM_TO_PIXEL*MM_TO_PIXEL\n",
    "\n",
    "    for box in final_bboxes_dem:\n",
    "\n",
    "        x_min_dem, y_min_dem, x_max_dem, y_max_dem, x_real, y_real = box\n",
    "        print(x_min_dem, y_min_dem, x_max_dem, y_max_dem)\n",
    "        sliced_dem = dem_array[y_min_dem:y_max_dem,\n",
    "                                    x_min_dem:x_max_dem]\n",
    "\n",
    "        max_depth = np.max(sliced_dem)\n",
    "        min_depth = np.min(sliced_dem)\n",
    "\n",
    "        max_depth_floor = (max_depth - min_depth)\n",
    "        \n",
    "        # We shall use our min depth as the floor depth\n",
    "        volume = 0\n",
    "        for i in range(sliced_dem.shape[0]):\n",
    "            for j in range(sliced_dem.shape[1]):\n",
    "\n",
    "                depth_wrt_floor = sliced_dem[i][j] - min_depth\n",
    "                volume += area*depth_wrt_floor\n",
    "\n",
    "        # contains the volume, the max depth, and the real world coords of the potholes\n",
    "        volume_max_depth.append(\n",
    "            (volume, max_depth_floor, (x_real, y_real)))\n",
    "\n",
    "    return volume_max_depth\n"
   ]
  },
  {
   "cell_type": "code",
   "execution_count": 84,
   "metadata": {},
   "outputs": [
    {
     "name": "stdout",
     "output_type": "stream",
     "text": [
      "1421 974 1452 995\n",
      "2101 1580 2126 1601\n",
      "2205 1443 2226 1468\n",
      "2888 2263 2906 2278\n",
      "6631 5265 6657 5282\n",
      "7604 6059 7617 6072\n",
      "10366 8154 10386 8175\n",
      "10798 8435 10817 8454\n",
      "11583 9448 11614 9474\n",
      "11844 9461 11863 9478\n",
      "12150 9943 12179 9967\n",
      "13154 10822 13183 10845\n",
      "16722 13997 16745 14019\n",
      "16983 14348 17007 14368\n",
      "19457 16445 19478 16466\n",
      "21198 18347 21226 18369\n",
      "23913 21010 23965 21045\n",
      "24191 21480 24209 21498\n",
      "24447 21468 24464 21487\n",
      "24880 21947 24898 21965\n",
      "25272 22356 25299 22378\n",
      "26204 23142 26215 23152\n",
      "28559 25779 28574 25793\n",
      "30320 27449 30352 27476\n",
      "31611 28985 31634 29009\n",
      "31726 28941 31757 28973\n",
      "31713 29042 31729 29055\n",
      "32942 30136 33057 30280\n",
      "34463 31407 34488 31430\n",
      "34289 31714 34345 31758\n",
      "37368 34519 37392 34538\n",
      "37740 34681 37772 34712\n",
      "37651 34829 37672 34851\n",
      "38369 35158 38387 35183\n",
      "39229 36297 39296 36337\n",
      "39787 36491 39944 36551\n",
      "43673 40008 43719 40050\n",
      "44921 40912 44935 40926\n",
      "46945 42502 46994 42548\n",
      "46800 42787 46828 42825\n",
      "48977 44281 49008 44308\n"
     ]
    }
   ],
   "source": [
    "volume_max_depth = calculate_volume_and_maxdepth(final_bboxes_dem)"
   ]
  },
  {
   "cell_type": "code",
   "execution_count": 85,
   "metadata": {},
   "outputs": [
    {
     "data": {
      "text/plain": [
       "41"
      ]
     },
     "execution_count": 85,
     "metadata": {},
     "output_type": "execute_result"
    }
   ],
   "source": [
    "len(volume_max_depth)"
   ]
  },
  {
   "cell_type": "code",
   "execution_count": 88,
   "metadata": {},
   "outputs": [],
   "source": [
    "def calculate_severity(volume_max_depth):\n",
    "\n",
    "    final_results = []\n",
    "\n",
    "    # using final bboxes ortho and not final bboxes dem for consistency across the mm to pixel ratio\n",
    "    for i, box in enumerate(bbox_vals):\n",
    "\n",
    "        xmin, ymin, xmax, ymax = box\n",
    "        xlength = xmax - xmin\n",
    "        ylength = ymax - ymin\n",
    "\n",
    "        xlength *= MM_TO_PIXEL\n",
    "        ylength *= MM_TO_PIXEL\n",
    "\n",
    "        width = max(xlength, ylength)\n",
    "\n",
    "        volume, depth, real_coords = volume_max_depth[i]\n",
    "\n",
    "        # depth value is in metres so convert to mm\n",
    "        depth *= 1000\n",
    "\n",
    "        # Severity is either small or medium\n",
    "        if width >= 500:\n",
    "            if depth >= 25 and depth <= 50:\n",
    "                final_results.append((volume, 1, real_coords))\n",
    "\n",
    "            elif depth > 50:\n",
    "                final_results.append((volume, 2, real_coords))\n",
    "            else:\n",
    "                    # Classify as medium in undefined edge case\n",
    "                final_results.append((volume, 1, real_coords))\n",
    "\n",
    "        else:\n",
    "            # Classify as small in all undefined edge cases in this category\n",
    "            if depth <= 25:\n",
    "                final_results.append((volume, 0, real_coords))\n",
    "            else:\n",
    "                final_results.append((volume, 1, real_coords))\n",
    "\n",
    "    return final_results\n"
   ]
  },
  {
   "cell_type": "code",
   "execution_count": 90,
   "metadata": {},
   "outputs": [
    {
     "data": {
      "text/plain": [
       "[(80.55863522644033, 0, (75.68391125164004, 28.3558642618316)),\n",
       " (51.81814574890142, 0, (75.68395613443825, 28.355828706966598)),\n",
       " (44.86551657714844, 0, (75.68396288011729, 28.3558366243386)),\n",
       " (22.31728494873047, 0, (75.6840080943985, 28.3557888415324)),\n",
       " (28.772966354370126, 0, (75.68425649118454, 28.355612723990802)),\n",
       " (21.051717764282234, 0, (75.68432058342259, 28.3555662607466)),\n",
       " (21.39659126586915, 0, (75.68450391009574, 28.3554431602738)),\n",
       " (19.610363040161147, 0, (75.68453251707865, 28.355426724396)),\n",
       " (65.70639239501949, 0, (75.6845849411151, 28.355367124179)),\n",
       " (20.458370379638684, 0, (75.68460184674808, 28.3553666256778)),\n",
       " (68.5189930297852, 0, (75.68462244841655, 28.3553381524622)),\n",
       " (110.39560592651365, 0, (75.6846890267771, 28.355286616235198)),\n",
       " (53.60849802246094, 0, (75.68492535758193, 28.3551004846842)),\n",
       " (34.640455435180684, 0, (75.68494269414285, 28.355079972825997)),\n",
       " (23.220451428222667, 0, (75.68510659591219, 28.3549569310004)),\n",
       " (43.05505957031249, 0, (75.68522226690504, 28.3548453693642)),\n",
       " (249.38220459594746, 0, (75.68540302458493, 28.3546888253256)),\n",
       " (19.09743458862305, 0, (75.6854203114234, 28.3546617303192)),\n",
       " (29.613241104125965, 0, (75.68543726677885, 28.3546624194238)),\n",
       " (32.18355392761233, 0, (75.68546602292909, 28.3546343420768)),\n",
       " (74.7581619232178, 0, (75.68549229295684, 28.354610238077598)),\n",
       " (4.723065802001955, 0, (75.68555356758938, 28.3545644932616)),\n",
       " (14.066611715698246, 0, (75.68570982867558, 28.3544097672862)),\n",
       " (76.20260968322744, 0, (75.68582712393514, 28.354311445255398)),\n",
       " (55.401943331909195, 0, (75.68591241451105, 28.3542214364652)),\n",
       " (78.94200846862786, 0, (75.68592028723228, 28.354223797015)),\n",
       " (13.75421509094238, 0, (75.68591892815199, 28.354218445458)),\n",
       " (10739.273718905655, 2, (75.68600370492925, 28.354150414705998)),\n",
       " (68.82417257080077, 0, (75.6861015421367, 28.354079451593996)),\n",
       " (253.57842328491196, 0, (75.68609103412558, 28.3540608164462)),\n",
       " (70.71917255859381, 0, (75.68629410061139, 28.353897044140197)),\n",
       " (99.85711714782704, 0, (75.68631901155884, 28.3538871767488)),\n",
       " (37.621111019897384, 0, (75.68631274653015, 28.353878775537396)),\n",
       " (34.2301126739502, 0, (75.68636026461819, 28.353859407299602)),\n",
       " (412.8275000610352, 1, (75.68641888738674, 28.353792168284798)),\n",
       " (3442.39274577943, 2, (75.68645888081069, 28.353780204255997)),\n",
       " (330.25942251892104, 0, (75.68671281336285, 28.353574499201997)),\n",
       " (14.528505075073237, 0, (75.6867945073482, 28.3535222738704)),\n",
       " (451.9827568817131, 1, (75.68692983528294, 28.353428101128998)),\n",
       " (82.99440098876957, 0, (75.68691954273578, 28.3534116359276)),\n",
       " (122.81002097167972, 0, (75.6870639367306, 28.353324310246798))]"
      ]
     },
     "execution_count": 90,
     "metadata": {},
     "output_type": "execute_result"
    }
   ],
   "source": [
    "final_results = calculate_severity(volume_max_depth)\n"
   ]
  },
  {
   "cell_type": "code",
   "execution_count": null,
   "metadata": {},
   "outputs": [],
   "source": []
  }
 ],
 "metadata": {
  "kernelspec": {
   "display_name": "Python 3.11.0 ('gdal_mde')",
   "language": "python",
   "name": "python3"
  },
  "language_info": {
   "codemirror_mode": {
    "name": "ipython",
    "version": 3
   },
   "file_extension": ".py",
   "mimetype": "text/x-python",
   "name": "python",
   "nbconvert_exporter": "python",
   "pygments_lexer": "ipython3",
   "version": "3.11.0"
  },
  "orig_nbformat": 4,
  "vscode": {
   "interpreter": {
    "hash": "74d08b097f7ffffb9ea7a8c466790d58597019999f96fdf57f2f0737dc7da0bc"
   }
  }
 },
 "nbformat": 4,
 "nbformat_minor": 2
}
